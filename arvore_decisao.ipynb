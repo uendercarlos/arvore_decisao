{
  "nbformat": 4,
  "nbformat_minor": 0,
  "metadata": {
    "colab": {
      "name": "arvore_decisao.ipynb",
      "provenance": []
    },
    "kernelspec": {
      "display_name": "Python 3.6",
      "language": "python",
      "name": "python3"
    },
    "language_info": {
      "codemirror_mode": {
        "name": "ipython",
        "version": 3
      },
      "file_extension": ".py",
      "mimetype": "text/x-python",
      "name": "python",
      "nbconvert_exporter": "python",
      "pygments_lexer": "ipython3",
      "version": "3.6.9"
    }
  },
  "cells": [
    {
      "cell_type": "markdown",
      "metadata": {
        "id": "8g0lyqVymY08"
      },
      "source": [
        "# ** BÁSICO DE PYTHON **"
      ]
    },
    {
      "cell_type": "markdown",
      "metadata": {
        "id": "yH9sYNLpmY0_"
      },
      "source": [
        "Falar sobre a linguagem..."
      ]
    },
    {
      "cell_type": "markdown",
      "metadata": {
        "id": "15GsqY5aG1EU"
      },
      "source": [
        "### Variavel\n",
        "\n",
        " "
      ]
    },
    {
      "cell_type": "code",
      "metadata": {
        "id": "XBJU4YBtC3Zw"
      },
      "source": [
        "nome = \"uender\""
      ],
      "execution_count": 175,
      "outputs": []
    },
    {
      "cell_type": "code",
      "metadata": {
        "colab": {
          "base_uri": "https://localhost:8080/",
          "height": 35
        },
        "id": "YiitJevNC9E3",
        "outputId": "74882bdd-3bd0-4133-a992-c54da162fdd1"
      },
      "source": [
        "nome"
      ],
      "execution_count": 176,
      "outputs": [
        {
          "output_type": "execute_result",
          "data": {
            "application/vnd.google.colaboratory.intrinsic+json": {
              "type": "string"
            },
            "text/plain": [
              "'uender'"
            ]
          },
          "metadata": {
            "tags": []
          },
          "execution_count": 176
        }
      ]
    },
    {
      "cell_type": "code",
      "metadata": {
        "id": "TWwZULANE_cm"
      },
      "source": [
        "idade = 31"
      ],
      "execution_count": 177,
      "outputs": []
    },
    {
      "cell_type": "markdown",
      "metadata": {
        "id": "nakrhTfFHf6N"
      },
      "source": [
        "### Função\n",
        "\n"
      ]
    },
    {
      "cell_type": "code",
      "metadata": {
        "id": "dg-jLNnpFFyU"
      },
      "source": [
        "def soma(idade):\n",
        "  print(\"estamos dentro da função\")\n",
        "  return idade + 1"
      ],
      "execution_count": null,
      "outputs": []
    },
    {
      "cell_type": "code",
      "metadata": {
        "colab": {
          "base_uri": "https://localhost:8080/"
        },
        "id": "KuxoUwgIGDVs",
        "outputId": "cdbadc38-a694-41b1-8671-172b6564b13f"
      },
      "source": [
        "soma(1)"
      ],
      "execution_count": null,
      "outputs": [
        {
          "output_type": "stream",
          "text": [
            "estamos dentro da função\n"
          ],
          "name": "stdout"
        },
        {
          "output_type": "execute_result",
          "data": {
            "text/plain": [
              "2"
            ]
          },
          "metadata": {
            "tags": []
          },
          "execution_count": 7
        }
      ]
    },
    {
      "cell_type": "markdown",
      "metadata": {
        "id": "QzuG-pVrILDj"
      },
      "source": [
        "### Lista ou array\n",
        "\n"
      ]
    },
    {
      "cell_type": "code",
      "metadata": {
        "id": "GKlXi06YGP9f"
      },
      "source": [
        "aluno1 = \"Luciana\"\n",
        "aluno2 = \"Roberto\"\n",
        "aluno3 = \"Maria\"\n",
        "\n",
        "alunos = [\"Luciana\", \"Roberto\", \"Maria\"]"
      ],
      "execution_count": 1,
      "outputs": []
    },
    {
      "cell_type": "markdown",
      "metadata": {
        "id": "0GipPMv3JYc0"
      },
      "source": [
        "### Laço de repetição \n",
        "\n"
      ]
    },
    {
      "cell_type": "code",
      "metadata": {
        "colab": {
          "base_uri": "https://localhost:8080/"
        },
        "id": "wYiwRVUmI-Z2",
        "outputId": "83f05bc7-d3ba-4aca-852e-744efa8f5847"
      },
      "source": [
        "for aluno in alunos:\n",
        "  print(aluno)\n",
        "  print(\"....\")\n",
        "print(\"estamos fora do laço\")"
      ],
      "execution_count": 2,
      "outputs": [
        {
          "output_type": "stream",
          "text": [
            "Luciana\n",
            "....\n",
            "Roberto\n",
            "....\n",
            "Maria\n",
            "....\n",
            "estamos fora do laço\n"
          ],
          "name": "stdout"
        }
      ]
    },
    {
      "cell_type": "markdown",
      "metadata": {
        "id": "dO-SYdcjKDG6"
      },
      "source": [
        "### Dicionário ou objeto\n",
        "\n"
      ]
    },
    {
      "cell_type": "code",
      "metadata": {
        "id": "Mp9ICwPeKVpf"
      },
      "source": [
        "dados_alunos = {\"nome\":\"Roberto\", \"disciplina\": \"matematica\", \"nota\": \"8.5\"}"
      ],
      "execution_count": 3,
      "outputs": []
    },
    {
      "cell_type": "code",
      "metadata": {
        "colab": {
          "base_uri": "https://localhost:8080/",
          "height": 35
        },
        "id": "5AoaLbw2ML9U",
        "outputId": "726c283a-7476-4105-8c9a-b042540a24fc"
      },
      "source": [
        "dados_alunos [\"nota\"]"
      ],
      "execution_count": 5,
      "outputs": [
        {
          "output_type": "execute_result",
          "data": {
            "application/vnd.google.colaboratory.intrinsic+json": {
              "type": "string"
            },
            "text/plain": [
              "'8.5'"
            ]
          },
          "metadata": {
            "tags": []
          },
          "execution_count": 5
        }
      ]
    },
    {
      "cell_type": "markdown",
      "metadata": {
        "collapsed": true,
        "id": "Vu5StSgEmY04"
      },
      "source": [
        "# ** AVANÇADO DE PYTHON **\n",
        "\n",
        "MACHINE LEARNING"
      ]
    },
    {
      "cell_type": "markdown",
      "metadata": {
        "id": "MQWy4WvnmY1B"
      },
      "source": [
        "## Trabalhando com Pipelines do scikit-learn\n",
        "\n"
      ]
    },
    {
      "cell_type": "markdown",
      "metadata": {
        "id": "G3FEgtyiLXU4"
      },
      "source": [
        "Em projetos de ciência de dados visando a construção de modelos de *machine learning*, ou aprendizado estatístico, é muito incomum que os dados iniciais estejam já no formato ideal para a construção de modelos. São necessários vários passos intermediários de pré-processamento de dados, como por exemplo a codificação de variáveis categóricas, normalização de variáveis numéricas, tratamento de dados faltantes, etc. A biblioteca **scikit-learn** -- uma das mais populares bibliotecas de código-aberto para *machine learning* no mundo -- possui diversas funções já integradas para a realização das transformações de dados mais utilizadas. Entretanto, em um fluxo comum de um modelo de aprendizado de máquina, é necessária a aplicação dessas transformações pelo menos duas vezes: a primeira vez para \"treinar\" o modelo, e depois novamente quando novos dados forem enviados como entrada para serem classificados por este modelo. \n"
      ]
    },
    {
      "cell_type": "code",
      "metadata": {
        "colab": {
          "base_uri": "https://localhost:8080/"
        },
        "id": "WadYn2bbmY1C",
        "outputId": "5615f5fb-2b36-410d-e72b-19288e8fdec9"
      },
      "source": [
        "# Primeiro, realizamos a instalação do scikit-learn \n",
        "#XGBoost implementa algoritmos de aprendizado de máquina sob a estrutura Gradient Boosting\n",
        "!pip install scikit-learn==0.20.3 --upgrade\n",
        "!pip install xgboost==0.71 --upgrade"
      ],
      "execution_count": 6,
      "outputs": [
        {
          "output_type": "stream",
          "text": [
            "Collecting scikit-learn==0.20.3\n",
            "\u001b[?25l  Downloading https://files.pythonhosted.org/packages/5e/82/c0de5839d613b82bddd088599ac0bbfbbbcbd8ca470680658352d2c435bd/scikit_learn-0.20.3-cp36-cp36m-manylinux1_x86_64.whl (5.4MB)\n",
            "\u001b[K     |████████████████████████████████| 5.4MB 4.0MB/s \n",
            "\u001b[?25hRequirement already satisfied, skipping upgrade: numpy>=1.8.2 in /usr/local/lib/python3.6/dist-packages (from scikit-learn==0.20.3) (1.18.5)\n",
            "Requirement already satisfied, skipping upgrade: scipy>=0.13.3 in /usr/local/lib/python3.6/dist-packages (from scikit-learn==0.20.3) (1.4.1)\n",
            "Installing collected packages: scikit-learn\n",
            "  Found existing installation: scikit-learn 0.22.2.post1\n",
            "    Uninstalling scikit-learn-0.22.2.post1:\n",
            "      Successfully uninstalled scikit-learn-0.22.2.post1\n",
            "Successfully installed scikit-learn-0.20.3\n",
            "Collecting xgboost==0.71\n",
            "\u001b[?25l  Downloading https://files.pythonhosted.org/packages/4b/c4/57e246bc99e45c048f9805f2773e7369f0d30896d19fa089fa1794c7b246/xgboost-0.71.tar.gz (494kB)\n",
            "\u001b[K     |████████████████████████████████| 501kB 5.6MB/s \n",
            "\u001b[?25hRequirement already satisfied, skipping upgrade: numpy in /usr/local/lib/python3.6/dist-packages (from xgboost==0.71) (1.18.5)\n",
            "Requirement already satisfied, skipping upgrade: scipy in /usr/local/lib/python3.6/dist-packages (from xgboost==0.71) (1.4.1)\n",
            "Building wheels for collected packages: xgboost\n",
            "  Building wheel for xgboost (setup.py) ... \u001b[?25l\u001b[?25hdone\n",
            "  Created wheel for xgboost: filename=xgboost-0.71-cp36-cp36m-linux_x86_64.whl size=1957196 sha256=97503d59be6168435e8b49bdbfccf072b230e314d46bf3cc2e7a7488d2f9d432\n",
            "  Stored in directory: /root/.cache/pip/wheels/4e/6d/1d/0bc23240225fe411315d8abb5d4521b9ff002493ff77515ccc\n",
            "Successfully built xgboost\n",
            "Installing collected packages: xgboost\n",
            "  Found existing installation: xgboost 0.90\n",
            "    Uninstalling xgboost-0.90:\n",
            "      Successfully uninstalled xgboost-0.90\n",
            "Successfully installed xgboost-0.71\n"
          ],
          "name": "stdout"
        }
      ]
    },
    {
      "cell_type": "markdown",
      "metadata": {
        "id": "kalwelwmXzu7"
      },
      "source": [
        "## Import Bibliotecas\n"
      ]
    },
    {
      "cell_type": "code",
      "metadata": {
        "id": "ZL2__uTtmY1I"
      },
      "source": [
        "#@title\n",
        "# Em seguida iremos importar diversas bibliotecas que serão utilizadas:\n",
        "\n",
        "# Pacote para trabalhar com JSON\n",
        "import json\n",
        "\n",
        "# Pacote para realizar requisições HTTP\n",
        "import requests\n",
        "\n",
        "# Pacote para exploração e análise de dados\n",
        "import pandas as pd\n",
        "\n",
        "# Pacote com métodos numéricos e representações matriciais\n",
        "import numpy as np\n",
        "\n",
        "# Pacote para construção de modelo baseado na técnica Gradient Boosting\n",
        "import xgboost as xgb\n",
        "\n",
        "# Pacotes do scikit-learn para pré-processamento de dados\n",
        "# \"SimpleImputer\" é uma transformação para preencher valores faltantes em conjuntos de dados\n",
        "from sklearn.impute import SimpleImputer\n",
        "\n",
        "# Pacotes do scikit-learn para treinamento de modelos e construção de pipelines\n",
        "# Método para separação de conjunto de dados em amostras de treino e teste\n",
        "from sklearn.model_selection import train_test_split\n",
        "\n",
        "# Método para criação de modelos baseados em árvores de decisão\n",
        "from sklearn.tree import DecisionTreeClassifier\n",
        "\n",
        "# Classe para a criação de uma pipeline de machine-learning\n",
        "from sklearn.pipeline import Pipeline\n",
        "\n",
        "# Pacotes do scikit-learn para avaliação de modelos\n",
        "# Métodos para validação cruzada do modelo criado\n",
        "from sklearn.model_selection import KFold, cross_validate"
      ],
      "execution_count": 7,
      "outputs": []
    },
    {
      "cell_type": "code",
      "metadata": {
        "colab": {
          "base_uri": "https://localhost:8080/",
          "height": 393
        },
        "id": "3d9zujC8RA_n",
        "outputId": "09e63c94-c6e6-4582-f8f5-0f7b2d2a4279"
      },
      "source": [
        "# FAZER DOWNLOAD DO DATASET NO GITHUB\n",
        "!wget --no-check-certificate --content-disposition https://raw.githubusercontent.com/uendercarlos/dataset_aprovado/master/dataset_alunos.csv\n",
        "df_data_1 = pd.read_csv(r'dataset_alunos.csv')\n",
        "df_data_1.tail()"
      ],
      "execution_count": 8,
      "outputs": [
        {
          "output_type": "stream",
          "text": [
            "--2020-11-23 18:07:57--  https://raw.githubusercontent.com/uendercarlos/dataset_aprovado/master/dataset_alunos.csv\n",
            "Resolving raw.githubusercontent.com (raw.githubusercontent.com)... 151.101.0.133, 151.101.64.133, 151.101.128.133, ...\n",
            "Connecting to raw.githubusercontent.com (raw.githubusercontent.com)|151.101.0.133|:443... connected.\n",
            "HTTP request sent, awaiting response... 200 OK\n",
            "Length: 308815 (302K) [text/plain]\n",
            "Saving to: ‘dataset_alunos.csv’\n",
            "\n",
            "\rdataset_alunos.csv    0%[                    ]       0  --.-KB/s               \rdataset_alunos.csv  100%[===================>] 301.58K  --.-KB/s    in 0.04s   \n",
            "\n",
            "2020-11-23 18:07:57 (7.46 MB/s) - ‘dataset_alunos.csv’ saved [308815/308815]\n",
            "\n"
          ],
          "name": "stdout"
        },
        {
          "output_type": "execute_result",
          "data": {
            "text/html": [
              "<div>\n",
              "<style scoped>\n",
              "    .dataframe tbody tr th:only-of-type {\n",
              "        vertical-align: middle;\n",
              "    }\n",
              "\n",
              "    .dataframe tbody tr th {\n",
              "        vertical-align: top;\n",
              "    }\n",
              "\n",
              "    .dataframe thead th {\n",
              "        text-align: right;\n",
              "    }\n",
              "</style>\n",
              "<table border=\"1\" class=\"dataframe\">\n",
              "  <thead>\n",
              "    <tr style=\"text-align: right;\">\n",
              "      <th></th>\n",
              "      <th>NOME</th>\n",
              "      <th>AUSENCIA</th>\n",
              "      <th>MATEMATICA</th>\n",
              "      <th>PORTUGUES</th>\n",
              "      <th>BIOLOGIA</th>\n",
              "      <th>RESULTADO</th>\n",
              "    </tr>\n",
              "  </thead>\n",
              "  <tbody>\n",
              "    <tr>\n",
              "      <th>6275</th>\n",
              "      <td>Damares Alessandra Ioer</td>\n",
              "      <td>1</td>\n",
              "      <td>6.1</td>\n",
              "      <td>6.7</td>\n",
              "      <td>6.2</td>\n",
              "      <td>APROVADO</td>\n",
              "    </tr>\n",
              "    <tr>\n",
              "      <th>6276</th>\n",
              "      <td>Amarildo Oséas Mercado</td>\n",
              "      <td>1</td>\n",
              "      <td>6.1</td>\n",
              "      <td>6.2</td>\n",
              "      <td>7.4</td>\n",
              "      <td>APROVADO</td>\n",
              "    </tr>\n",
              "    <tr>\n",
              "      <th>6277</th>\n",
              "      <td>Oliver Juan Groppasye Thesheman</td>\n",
              "      <td>1</td>\n",
              "      <td>6.0</td>\n",
              "      <td>7.6</td>\n",
              "      <td>7.5</td>\n",
              "      <td>APROVADO</td>\n",
              "    </tr>\n",
              "    <tr>\n",
              "      <th>6278</th>\n",
              "      <td>Nelson Táles de Simões</td>\n",
              "      <td>1</td>\n",
              "      <td>6.0</td>\n",
              "      <td>6.7</td>\n",
              "      <td>6.4</td>\n",
              "      <td>APROVADO</td>\n",
              "    </tr>\n",
              "    <tr>\n",
              "      <th>6279</th>\n",
              "      <td>Wilson Maurício de Queiroz Dysisier</td>\n",
              "      <td>1</td>\n",
              "      <td>8.0</td>\n",
              "      <td>7.9</td>\n",
              "      <td>10.0</td>\n",
              "      <td>REPROVADO</td>\n",
              "    </tr>\n",
              "  </tbody>\n",
              "</table>\n",
              "</div>"
            ],
            "text/plain": [
              "                                     NOME  AUSENCIA  ...  BIOLOGIA  RESULTADO\n",
              "6275              Damares Alessandra Ioer         1  ...       6.2   APROVADO\n",
              "6276               Amarildo Oséas Mercado         1  ...       7.4   APROVADO\n",
              "6277      Oliver Juan Groppasye Thesheman         1  ...       7.5   APROVADO\n",
              "6278               Nelson Táles de Simões         1  ...       6.4   APROVADO\n",
              "6279  Wilson Maurício de Queiroz Dysisier         1  ...      10.0  REPROVADO\n",
              "\n",
              "[5 rows x 6 columns]"
            ]
          },
          "metadata": {
            "tags": []
          },
          "execution_count": 8
        }
      ]
    },
    {
      "cell_type": "code",
      "metadata": {
        "id": "VEOu6PMymY1Q"
      },
      "source": [
        "#LENDO ARQUIVO DATASET\n",
        "df_data_1 = pd.read_csv(\"dataset_alunos8.csv\")"
      ],
      "execution_count": 158,
      "outputs": []
    },
    {
      "cell_type": "markdown",
      "metadata": {
        "id": "_2zV3gIcmY1Y"
      },
      "source": [
        "## Explorando os dados fornecidos\n",
        "\n",
        "\n",
        "\n",
        "Podemos continuar a exploração dos dados fornecidos com a função ``info()``:"
      ]
    },
    {
      "cell_type": "code",
      "metadata": {
        "colab": {
          "base_uri": "https://localhost:8080/",
          "height": 497
        },
        "id": "ol2L23-GmY1Z",
        "outputId": "3439ebb3-5bba-4936-d6b9-606890ce13d9"
      },
      "source": [
        "df_data_1.head(15)"
      ],
      "execution_count": 138,
      "outputs": [
        {
          "output_type": "execute_result",
          "data": {
            "text/html": [
              "<div>\n",
              "<style scoped>\n",
              "    .dataframe tbody tr th:only-of-type {\n",
              "        vertical-align: middle;\n",
              "    }\n",
              "\n",
              "    .dataframe tbody tr th {\n",
              "        vertical-align: top;\n",
              "    }\n",
              "\n",
              "    .dataframe thead th {\n",
              "        text-align: right;\n",
              "    }\n",
              "</style>\n",
              "<table border=\"1\" class=\"dataframe\">\n",
              "  <thead>\n",
              "    <tr style=\"text-align: right;\">\n",
              "      <th></th>\n",
              "      <th>NOME</th>\n",
              "      <th>AUSENCIA</th>\n",
              "      <th>MATEMATICA</th>\n",
              "      <th>PORTUGUES</th>\n",
              "      <th>BIOLOGIA</th>\n",
              "      <th>RESULTADO</th>\n",
              "    </tr>\n",
              "  </thead>\n",
              "  <tbody>\n",
              "    <tr>\n",
              "      <th>0</th>\n",
              "      <td>Bento Suyov d'Ávila de França</td>\n",
              "      <td>26.0</td>\n",
              "      <td>7.0</td>\n",
              "      <td>6.8</td>\n",
              "      <td>8.4</td>\n",
              "      <td>REPROVADO</td>\n",
              "    </tr>\n",
              "    <tr>\n",
              "      <th>1</th>\n",
              "      <td>Valeska Irelope</td>\n",
              "      <td>26.0</td>\n",
              "      <td>6.7</td>\n",
              "      <td>7.0</td>\n",
              "      <td>7.3</td>\n",
              "      <td>REPROVADO</td>\n",
              "    </tr>\n",
              "    <tr>\n",
              "      <th>2</th>\n",
              "      <td>Sara Gomes Klein Duque</td>\n",
              "      <td>25.0</td>\n",
              "      <td>7.5</td>\n",
              "      <td>8.1</td>\n",
              "      <td>8.3</td>\n",
              "      <td>REPROVADO</td>\n",
              "    </tr>\n",
              "    <tr>\n",
              "      <th>3</th>\n",
              "      <td>Décio Rosatto Guedes</td>\n",
              "      <td>25.0</td>\n",
              "      <td>7.3</td>\n",
              "      <td>6.9</td>\n",
              "      <td>8.0</td>\n",
              "      <td>REPROVADO</td>\n",
              "    </tr>\n",
              "    <tr>\n",
              "      <th>4</th>\n",
              "      <td>Elisete Anbiman</td>\n",
              "      <td>25.0</td>\n",
              "      <td>6.9</td>\n",
              "      <td>7.1</td>\n",
              "      <td>6.0</td>\n",
              "      <td>REPROVADO</td>\n",
              "    </tr>\n",
              "    <tr>\n",
              "      <th>5</th>\n",
              "      <td>Manuel de Moreira da Silva Terceiro</td>\n",
              "      <td>24.0</td>\n",
              "      <td>7.6</td>\n",
              "      <td>8.1</td>\n",
              "      <td>8.4</td>\n",
              "      <td>REPROVADO</td>\n",
              "    </tr>\n",
              "    <tr>\n",
              "      <th>6</th>\n",
              "      <td>José Lúcio de Barbosa Secokial Onaov</td>\n",
              "      <td>24.0</td>\n",
              "      <td>7.2</td>\n",
              "      <td>6.8</td>\n",
              "      <td>8.2</td>\n",
              "      <td>REPROVADO</td>\n",
              "    </tr>\n",
              "    <tr>\n",
              "      <th>7</th>\n",
              "      <td>Jânio Táles Omfralão</td>\n",
              "      <td>24.0</td>\n",
              "      <td>6.6</td>\n",
              "      <td>6.1</td>\n",
              "      <td>6.0</td>\n",
              "      <td>REPROVADO</td>\n",
              "    </tr>\n",
              "    <tr>\n",
              "      <th>8</th>\n",
              "      <td>Jonathas Caio Wani</td>\n",
              "      <td>23.0</td>\n",
              "      <td>7.9</td>\n",
              "      <td>8.0</td>\n",
              "      <td>8.9</td>\n",
              "      <td>REPROVADO</td>\n",
              "    </tr>\n",
              "    <tr>\n",
              "      <th>9</th>\n",
              "      <td>Ivan Penedo de Oliveira Tama</td>\n",
              "      <td>23.0</td>\n",
              "      <td>7.5</td>\n",
              "      <td>7.4</td>\n",
              "      <td>7.9</td>\n",
              "      <td>REPROVADO</td>\n",
              "    </tr>\n",
              "    <tr>\n",
              "      <th>10</th>\n",
              "      <td>Saulo Uickafuer</td>\n",
              "      <td>23.0</td>\n",
              "      <td>6.4</td>\n",
              "      <td>6.2</td>\n",
              "      <td>6.1</td>\n",
              "      <td>REPROVADO</td>\n",
              "    </tr>\n",
              "    <tr>\n",
              "      <th>11</th>\n",
              "      <td>Dina Valquíria da Paixão</td>\n",
              "      <td>22.0</td>\n",
              "      <td>7.5</td>\n",
              "      <td>7.2</td>\n",
              "      <td>6.5</td>\n",
              "      <td>REPROVADO</td>\n",
              "    </tr>\n",
              "    <tr>\n",
              "      <th>12</th>\n",
              "      <td>Leonardo Oyer</td>\n",
              "      <td>22.0</td>\n",
              "      <td>7.4</td>\n",
              "      <td>7.4</td>\n",
              "      <td>9.1</td>\n",
              "      <td>REPROVADO</td>\n",
              "    </tr>\n",
              "    <tr>\n",
              "      <th>13</th>\n",
              "      <td>Fabiano Jair Espada Filazgon</td>\n",
              "      <td>22.0</td>\n",
              "      <td>6.6</td>\n",
              "      <td>6.2</td>\n",
              "      <td>7.0</td>\n",
              "      <td>REPROVADO</td>\n",
              "    </tr>\n",
              "    <tr>\n",
              "      <th>14</th>\n",
              "      <td>Damião Cuel</td>\n",
              "      <td>21.0</td>\n",
              "      <td>7.5</td>\n",
              "      <td>7.3</td>\n",
              "      <td>8.4</td>\n",
              "      <td>REPROVADO</td>\n",
              "    </tr>\n",
              "  </tbody>\n",
              "</table>\n",
              "</div>"
            ],
            "text/plain": [
              "                                    NOME  AUSENCIA  ...  BIOLOGIA  RESULTADO\n",
              "0          Bento Suyov d'Ávila de França      26.0  ...       8.4  REPROVADO\n",
              "1                        Valeska Irelope      26.0  ...       7.3  REPROVADO\n",
              "2                 Sara Gomes Klein Duque      25.0  ...       8.3  REPROVADO\n",
              "3                   Décio Rosatto Guedes      25.0  ...       8.0  REPROVADO\n",
              "4                        Elisete Anbiman      25.0  ...       6.0  REPROVADO\n",
              "5    Manuel de Moreira da Silva Terceiro      24.0  ...       8.4  REPROVADO\n",
              "6   José Lúcio de Barbosa Secokial Onaov      24.0  ...       8.2  REPROVADO\n",
              "7                   Jânio Táles Omfralão      24.0  ...       6.0  REPROVADO\n",
              "8                     Jonathas Caio Wani      23.0  ...       8.9  REPROVADO\n",
              "9           Ivan Penedo de Oliveira Tama      23.0  ...       7.9  REPROVADO\n",
              "10                       Saulo Uickafuer      23.0  ...       6.1  REPROVADO\n",
              "11              Dina Valquíria da Paixão      22.0  ...       6.5  REPROVADO\n",
              "12                         Leonardo Oyer      22.0  ...       9.1  REPROVADO\n",
              "13          Fabiano Jair Espada Filazgon      22.0  ...       7.0  REPROVADO\n",
              "14                           Damião Cuel      21.0  ...       8.4  REPROVADO\n",
              "\n",
              "[15 rows x 6 columns]"
            ]
          },
          "metadata": {
            "tags": []
          },
          "execution_count": 138
        }
      ]
    },
    {
      "cell_type": "code",
      "metadata": {
        "colab": {
          "base_uri": "https://localhost:8080/"
        },
        "id": "oyzEyR_KmY1g",
        "outputId": "29260dfa-92e4-45a3-c901-e8b4318ba721"
      },
      "source": [
        "df_data_1.shape"
      ],
      "execution_count": 123,
      "outputs": [
        {
          "output_type": "execute_result",
          "data": {
            "text/plain": [
              "(6536, 6)"
            ]
          },
          "metadata": {
            "tags": []
          },
          "execution_count": 123
        }
      ]
    },
    {
      "cell_type": "code",
      "metadata": {
        "colab": {
          "base_uri": "https://localhost:8080/"
        },
        "id": "WtoX9qrBs0nc",
        "outputId": "9f6bc6ab-91f0-4fc2-f021-b5b339a24a8c"
      },
      "source": [
        "#Imprima um resumo conciso de um DataSET\n",
        "df_data_1.info()"
      ],
      "execution_count": 141,
      "outputs": [
        {
          "output_type": "stream",
          "text": [
            "<class 'pandas.core.frame.DataFrame'>\n",
            "RangeIndex: 6536 entries, 0 to 6535\n",
            "Data columns (total 6 columns):\n",
            " #   Column      Non-Null Count  Dtype  \n",
            "---  ------      --------------  -----  \n",
            " 0   NOME        6536 non-null   object \n",
            " 1   AUSENCIA    6535 non-null   float64\n",
            " 2   MATEMATICA  6530 non-null   float64\n",
            " 3   PORTUGUES   6535 non-null   float64\n",
            " 4   BIOLOGIA    6532 non-null   float64\n",
            " 5   RESULTADO   6536 non-null   object \n",
            "dtypes: float64(4), object(2)\n",
            "memory usage: 306.5+ KB\n"
          ],
          "name": "stdout"
        }
      ]
    },
    {
      "cell_type": "code",
      "metadata": {
        "colab": {
          "base_uri": "https://localhost:8080/"
        },
        "id": "F7yvX8Xa706t",
        "outputId": "7aa93d07-bd8d-4164-8482-496eae52f969"
      },
      "source": [
        "#Conte observações distintas sobre o eixo solicitado.\n",
        "df_data_1.nunique()"
      ],
      "execution_count": 156,
      "outputs": [
        {
          "output_type": "execute_result",
          "data": {
            "text/plain": [
              "NOME          6233\n",
              "AUSENCIA        24\n",
              "MATEMATICA      37\n",
              "PORTUGUES       54\n",
              "BIOLOGIA        57\n",
              "RESULTADO        2\n",
              "dtype: int64"
            ]
          },
          "metadata": {
            "tags": []
          },
          "execution_count": 156
        }
      ]
    },
    {
      "cell_type": "code",
      "metadata": {
        "id": "_3SmkRlu95sJ",
        "colab": {
          "base_uri": "https://localhost:8080/"
        },
        "outputId": "c2bd12b8-9f7c-4658-d890-0f59b583767e"
      },
      "source": [
        "# Exibindo os dados ausentes do conjunto de dados antes da primeira transformação (df)\n",
        "print(\"Valores nulos no df_data_1 antes da transformação DropNA: \\n\\n{}\\n\".format(df_data_1.isnull().sum(axis = 0)))"
      ],
      "execution_count": 159,
      "outputs": [
        {
          "output_type": "stream",
          "text": [
            "Valores nulos no df_data_1 antes da transformação DropNA: \n",
            "\n",
            "NOME          0\n",
            "AUSENCIA      1\n",
            "MATEMATICA    6\n",
            "PORTUGUES     1\n",
            "BIOLOGIA      4\n",
            "RESULTADO     0\n",
            "dtype: int64\n",
            "\n"
          ],
          "name": "stdout"
        }
      ]
    },
    {
      "cell_type": "markdown",
      "metadata": {
        "id": "UOWg8AzYwWey"
      },
      "source": [
        "## Transformação: \n",
        "\n",
        "Para o pré-processamento dos dados serão apresentadas duas transformações básicas neste notebook, demonstrando a construção de uma Pipeline com um modelo funcional. Esta Pipeline funcional fornecida deverá ser melhorada pelo participante para que o modelo final alcance a maior acurácia possíveL. Essa melhoria pode ser feita apenas no pré-processamento dos dados.\n",
        "\n",
        "A primeira transformação (passo na nossa Pipeline) será a exclusão da coluna \"NOME\" do nosso dataset, que além de não ser uma variável numérica, também não é uma variável relacionada ao desempenho dos estudantes nas disciplinas. Existem funções prontas no scikit-learn para a realização dessa transformação, entretanto nosso exemplo irá demonstrar como criar uma transformação personalizada do zero no scikit-learn.\n"
      ]
    },
    {
      "cell_type": "markdown",
      "metadata": {
        "id": "gCby_sRlwWey"
      },
      "source": [
        "### Removendo todas as linhas que possuem algum valor nulos em determinadas colunas \n",
        "Usando o método Pandas **DataFrame.dropna()** você pode remover todas as linhas nulas do dataset.\n",
        "\n",
        "Docs: https://pandas.pydata.org/pandas-docs/stable/reference/api/pandas.DataFrame.dropna.html"
      ]
    },
    {
      "cell_type": "code",
      "metadata": {
        "colab": {
          "base_uri": "https://localhost:8080/"
        },
        "id": "7wDHJXWu_O7n",
        "outputId": "8e9bcacd-b247-4891-951d-e39aacf91160"
      },
      "source": [
        "# Exibindo os dados ausentes do conjunto de dados antes da primeira transformação (df)\n",
        "print(\"Valores nulos no df_data_1 antes da transformação DropNA: \\n\\n{}\\n\".format(df_data_1.isnull().sum(axis = 0)))"
      ],
      "execution_count": 160,
      "outputs": [
        {
          "output_type": "stream",
          "text": [
            "Valores nulos no df_data_1 antes da transformação DropNA: \n",
            "\n",
            "NOME          0\n",
            "AUSENCIA      1\n",
            "MATEMATICA    6\n",
            "PORTUGUES     1\n",
            "BIOLOGIA      4\n",
            "RESULTADO     0\n",
            "dtype: int64\n",
            "\n"
          ],
          "name": "stdout"
        }
      ]
    },
    {
      "cell_type": "code",
      "metadata": {
        "id": "hSloPp4I95sQ"
      },
      "source": [
        "# Aplicando a função para deletar todas as linhas com valor NaN na coluna ``AUSENCIA'', ``MATEMATICA'', ``PORTUGUES'', ``BIOLOGIA'':\n",
        "df_data_1 = df_data_1.dropna(axis='index', how='any', subset=['AUSENCIA', 'MATEMATICA', 'PORTUGUES', 'BIOLOGIA'])"
      ],
      "execution_count": 134,
      "outputs": []
    },
    {
      "cell_type": "code",
      "metadata": {
        "scrolled": true,
        "id": "RVUR6hd995sW",
        "colab": {
          "base_uri": "https://localhost:8080/"
        },
        "outputId": "7750251b-5fd2-4302-daf8-8afd6b581dfc"
      },
      "source": [
        "# Exibindo os dados ausentes do conjunto de dados após a primeira transformação (df)\n",
        "print(\"Valores nulos no df_data_1 após a transformação DropNA: \\n\\n{}\\n\".format(df_data_1.isnull().sum(axis = 0)))"
      ],
      "execution_count": 135,
      "outputs": [
        {
          "output_type": "stream",
          "text": [
            "Valores nulos no df_training_dataset após a transformação DropNA: \n",
            "\n",
            "NOME          0\n",
            "AUSENCIA      0\n",
            "MATEMATICA    0\n",
            "PORTUGUES     0\n",
            "BIOLOGIA      0\n",
            "RESULTADO     0\n",
            "dtype: int64\n",
            "\n"
          ],
          "name": "stdout"
        }
      ]
    },
    {
      "cell_type": "code",
      "metadata": {
        "colab": {
          "base_uri": "https://localhost:8080/"
        },
        "id": "ptnJuUHwxsMJ",
        "outputId": "ac8fb461-cfe8-4398-ed89-0ed36f5f9b06"
      },
      "source": [
        "df_data_1.shape"
      ],
      "execution_count": 136,
      "outputs": [
        {
          "output_type": "execute_result",
          "data": {
            "text/plain": [
              "(6526, 6)"
            ]
          },
          "metadata": {
            "tags": []
          },
          "execution_count": 136
        }
      ]
    },
    {
      "cell_type": "markdown",
      "metadata": {
        "id": "fpJNhstrBXqv"
      },
      "source": [
        "### Converter tipos de dados\n"
      ]
    },
    {
      "cell_type": "code",
      "metadata": {
        "colab": {
          "base_uri": "https://localhost:8080/"
        },
        "id": "2_eFqq9xVUlG",
        "outputId": "f8c08903-fa81-4183-c61d-e1f7fe2d34d5"
      },
      "source": [
        " df_data_1.dtypes"
      ],
      "execution_count": 154,
      "outputs": [
        {
          "output_type": "execute_result",
          "data": {
            "text/plain": [
              "NOME           object\n",
              "AUSENCIA        int64\n",
              "MATEMATICA    float64\n",
              "PORTUGUES     float64\n",
              "BIOLOGIA      float64\n",
              "RESULTADO      object\n",
              "dtype: object"
            ]
          },
          "metadata": {
            "tags": []
          },
          "execution_count": 154
        }
      ]
    },
    {
      "cell_type": "code",
      "metadata": {
        "id": "86e9Dxzhf6Iy"
      },
      "source": [
        "df_data_1[\"AUSENCIA\"] = df_data_1[\"AUSENCIA\"].astype(int)\n"
      ],
      "execution_count": 152,
      "outputs": []
    },
    {
      "cell_type": "code",
      "metadata": {
        "colab": {
          "base_uri": "https://localhost:8080/"
        },
        "id": "hU1W7Nl4VQ6a",
        "outputId": "6a2d3b7e-e88b-4ad4-b88e-4b36ad137c12"
      },
      "source": [
        " #Isso retorna uma série com o tipo de dados de cada coluna. \n",
        " df_data_1.dtypes"
      ],
      "execution_count": 153,
      "outputs": [
        {
          "output_type": "execute_result",
          "data": {
            "text/plain": [
              "NOME           object\n",
              "AUSENCIA        int64\n",
              "MATEMATICA    float64\n",
              "PORTUGUES     float64\n",
              "BIOLOGIA      float64\n",
              "RESULTADO      object\n",
              "dtype: object"
            ]
          },
          "metadata": {
            "tags": []
          },
          "execution_count": 153
        }
      ]
    },
    {
      "cell_type": "code",
      "metadata": {
        "id": "ADHBcdhy-04V"
      },
      "source": [
        "# Exibindo os dados ausentes do conjunto de dados antes da primeira transformação (df)\n",
        "print(\"Valores nulos no df_training_dataset antes da transformação DropNA: \\n\\n{}\\n\".format(df_data_1.isnull().sum(axis = 0)))"
      ],
      "execution_count": null,
      "outputs": []
    },
    {
      "cell_type": "markdown",
      "metadata": {
        "id": "kJM_SoohmY2E"
      },
      "source": [
        "### Excluindo colunas do dataset\n",
        "\n",
        "Para a criação de uma transformação de dados personalizada no scikit-learn, é necessária basicamente a criação de uma classe com os métodos ``transform`` e ``fit``. No método transform será executada a lógica da nossa transformação.\n",
        "\n",
        "Na próxima célula é apresentado o código completo de uma transformação ``DropColumns`` para a remoção de colunas de um DataFrame pandas."
      ]
    },
    {
      "cell_type": "code",
      "metadata": {
        "id": "byd3ubL_mY2F"
      },
      "source": [
        "from sklearn.base import BaseEstimator, TransformerMixin\n",
        "\n",
        "\n",
        "# All sklearn Transforms must have the `transform` and `fit` methods\n",
        "class DropColumns(BaseEstimator, TransformerMixin):\n",
        "    def __init__(self, columns):\n",
        "        self.columns = columns\n",
        "\n",
        "    def fit(self, X, y=None):\n",
        "        return self\n",
        "    \n",
        "    def transform(self, X):\n",
        "        # Primeiro realizamos a cópia do dataframe 'X' de entrada\n",
        "        data = X.copy()\n",
        "        # Retornamos um novo dataframe sem as colunas indesejadas\n",
        "        return data.drop(labels=self.columns, axis='columns')"
      ],
      "execution_count": 99,
      "outputs": []
    },
    {
      "cell_type": "markdown",
      "metadata": {
        "id": "zOFFdGZumY2L"
      },
      "source": [
        "Para aplicar essa transformação em um DataFrame pandas, basta instanciar um objeto *DropColumns* e chamar o método transform()."
      ]
    },
    {
      "cell_type": "code",
      "metadata": {
        "colab": {
          "base_uri": "https://localhost:8080/"
        },
        "id": "16BykmGemY2L",
        "outputId": "a50c7866-b298-4062-ca62-9a4b2afff35a"
      },
      "source": [
        "# Instanciando uma transformação DropColumns\n",
        "rm_columns = DropColumns(\n",
        "    columns=[\"NOME\"]  # Essa transformação recebe como parâmetro uma lista com os nomes das colunas indesejadas\n",
        ")\n",
        "\n",
        "print(rm_columns)"
      ],
      "execution_count": 100,
      "outputs": [
        {
          "output_type": "stream",
          "text": [
            "DropColumns(columns=['NOME'])\n"
          ],
          "name": "stdout"
        }
      ]
    },
    {
      "cell_type": "code",
      "metadata": {
        "colab": {
          "base_uri": "https://localhost:8080/"
        },
        "id": "5PxsmiMXmY2T",
        "outputId": "e36b9a9b-2e5d-48d2-de98-ccf1d9cb4060"
      },
      "source": [
        "# Visualizando as colunas do dataset original\n",
        "print(\"Colunas do dataset original: \\n\")\n",
        "print(df_data_1.columns)"
      ],
      "execution_count": 101,
      "outputs": [
        {
          "output_type": "stream",
          "text": [
            "Colunas do dataset original: \n",
            "\n",
            "Index(['NOME', 'AUSENCIA', 'MATEMATICA', 'PORTUGUES', 'BIOLOGIA', 'RESULTADO'], dtype='object')\n"
          ],
          "name": "stdout"
        }
      ]
    },
    {
      "cell_type": "code",
      "metadata": {
        "id": "TKCZafOvmY2X"
      },
      "source": [
        "# Aplicando a transformação ``DropColumns`` ao conjunto de dados base\n",
        "rm_columns.fit(X=df_data_1)\n",
        "\n",
        "# Reconstruindo um DataFrame Pandas com o resultado da transformação\n",
        "df_data_2 = pd.DataFrame.from_records(\n",
        "    data=rm_columns.transform(\n",
        "        X=df_data_1\n",
        "    ),\n",
        ")"
      ],
      "execution_count": 102,
      "outputs": []
    },
    {
      "cell_type": "code",
      "metadata": {
        "colab": {
          "base_uri": "https://localhost:8080/"
        },
        "id": "psTECYY7mY2c",
        "outputId": "e8564272-1609-43c4-e94b-2b0d8c4a5205"
      },
      "source": [
        "# Visualizando as colunas do dataset transformado\n",
        "print(\"Colunas do dataset após a transformação ``DropColumns``: \\n\")\n",
        "print(df_data_2.columns)"
      ],
      "execution_count": 103,
      "outputs": [
        {
          "output_type": "stream",
          "text": [
            "Colunas do dataset após a transformação ``DropColumns``: \n",
            "\n",
            "Index(['AUSENCIA', 'MATEMATICA', 'PORTUGUES', 'BIOLOGIA', 'RESULTADO'], dtype='object')\n"
          ],
          "name": "stdout"
        }
      ]
    },
    {
      "cell_type": "markdown",
      "metadata": {
        "id": "Ccfd0_ryv7c6"
      },
      "source": [
        ""
      ]
    },
    {
      "cell_type": "code",
      "metadata": {
        "colab": {
          "base_uri": "https://localhost:8080/",
          "height": 257
        },
        "id": "ZMG2E00IQhND",
        "outputId": "b1dab95c-3004-4d20-e915-fadef068cee7"
      },
      "source": [
        "# df_DATA_1 AINDA POSSUI NOME\n",
        "df_data_2.head(7)"
      ],
      "execution_count": 106,
      "outputs": [
        {
          "output_type": "execute_result",
          "data": {
            "text/html": [
              "<div>\n",
              "<style scoped>\n",
              "    .dataframe tbody tr th:only-of-type {\n",
              "        vertical-align: middle;\n",
              "    }\n",
              "\n",
              "    .dataframe tbody tr th {\n",
              "        vertical-align: top;\n",
              "    }\n",
              "\n",
              "    .dataframe thead th {\n",
              "        text-align: right;\n",
              "    }\n",
              "</style>\n",
              "<table border=\"1\" class=\"dataframe\">\n",
              "  <thead>\n",
              "    <tr style=\"text-align: right;\">\n",
              "      <th></th>\n",
              "      <th>AUSENCIA</th>\n",
              "      <th>MATEMATICA</th>\n",
              "      <th>PORTUGUES</th>\n",
              "      <th>BIOLOGIA</th>\n",
              "      <th>RESULTADO</th>\n",
              "    </tr>\n",
              "  </thead>\n",
              "  <tbody>\n",
              "    <tr>\n",
              "      <th>0</th>\n",
              "      <td>26</td>\n",
              "      <td>7.0</td>\n",
              "      <td>6.8</td>\n",
              "      <td>8.4</td>\n",
              "      <td>REPROVADO</td>\n",
              "    </tr>\n",
              "    <tr>\n",
              "      <th>1</th>\n",
              "      <td>26</td>\n",
              "      <td>6.0</td>\n",
              "      <td>7.0</td>\n",
              "      <td>7.3</td>\n",
              "      <td>REPROVADO</td>\n",
              "    </tr>\n",
              "    <tr>\n",
              "      <th>2</th>\n",
              "      <td>25</td>\n",
              "      <td>7.0</td>\n",
              "      <td>8.1</td>\n",
              "      <td>8.3</td>\n",
              "      <td>REPROVADO</td>\n",
              "    </tr>\n",
              "    <tr>\n",
              "      <th>3</th>\n",
              "      <td>25</td>\n",
              "      <td>7.0</td>\n",
              "      <td>6.9</td>\n",
              "      <td>8.0</td>\n",
              "      <td>REPROVADO</td>\n",
              "    </tr>\n",
              "    <tr>\n",
              "      <th>4</th>\n",
              "      <td>25</td>\n",
              "      <td>6.0</td>\n",
              "      <td>7.1</td>\n",
              "      <td>6.0</td>\n",
              "      <td>REPROVADO</td>\n",
              "    </tr>\n",
              "    <tr>\n",
              "      <th>5</th>\n",
              "      <td>24</td>\n",
              "      <td>7.0</td>\n",
              "      <td>8.1</td>\n",
              "      <td>8.4</td>\n",
              "      <td>REPROVADO</td>\n",
              "    </tr>\n",
              "    <tr>\n",
              "      <th>6</th>\n",
              "      <td>24</td>\n",
              "      <td>7.0</td>\n",
              "      <td>6.8</td>\n",
              "      <td>8.2</td>\n",
              "      <td>REPROVADO</td>\n",
              "    </tr>\n",
              "  </tbody>\n",
              "</table>\n",
              "</div>"
            ],
            "text/plain": [
              "   AUSENCIA  MATEMATICA  PORTUGUES  BIOLOGIA  RESULTADO\n",
              "0        26         7.0        6.8       8.4  REPROVADO\n",
              "1        26         6.0        7.0       7.3  REPROVADO\n",
              "2        25         7.0        8.1       8.3  REPROVADO\n",
              "3        25         7.0        6.9       8.0  REPROVADO\n",
              "4        25         6.0        7.1       6.0  REPROVADO\n",
              "5        24         7.0        8.1       8.4  REPROVADO\n",
              "6        24         7.0        6.8       8.2  REPROVADO"
            ]
          },
          "metadata": {
            "tags": []
          },
          "execution_count": 106
        }
      ]
    },
    {
      "cell_type": "markdown",
      "metadata": {
        "id": "WvQuNq3lmY2h"
      },
      "source": [
        "Nota-se que a coluna \"NOME\" foi removida e nosso dataset agora poossui apenas 5 colunas."
      ]
    },
    {
      "cell_type": "markdown",
      "metadata": {
        "id": "NTTzUP3KwVwL"
      },
      "source": [
        ""
      ]
    },
    {
      "cell_type": "markdown",
      "metadata": {
        "id": "V9PEk9D1v47W"
      },
      "source": [
        "### Renomear coluna"
      ]
    },
    {
      "cell_type": "code",
      "metadata": {
        "id": "aMpsFCAAvbIA"
      },
      "source": [
        "# renomear coluna\n",
        "df_data_2 = df_data_2.rename(columns={'AUSENCIA': 'FALTAS'})\n",
        "#ou\n",
        "#df.rename(columns={'nome': 'nome_completo'}, inplace = True)"
      ],
      "execution_count": 161,
      "outputs": []
    },
    {
      "cell_type": "markdown",
      "metadata": {
        "id": "yUwvO-LJLdQz"
      },
      "source": [
        "## Visualizações\n",
        "\n",
        "Para visualizar o dataset fornecido, podemos utilizar as bibliotecas ``matplotlib`` e ``seaborn``:\n"
      ]
    },
    {
      "cell_type": "code",
      "metadata": {
        "id": "hRVzV-JJLi0S"
      },
      "source": [
        "import matplotlib.pyplot as plt\n",
        "import seaborn as sns\n",
        "%matplotlib inline"
      ],
      "execution_count": 88,
      "outputs": []
    },
    {
      "cell_type": "code",
      "metadata": {
        "colab": {
          "base_uri": "https://localhost:8080/",
          "height": 316
        },
        "id": "qFsfFA-2Li9_",
        "outputId": "9b85a9a2-2d82-4c25-e464-1b73f20c577f"
      },
      "source": [
        "fig, axes = plt.subplots(nrows=1, ncols=4, figsize=(28, 4))\n",
        "\n",
        "sns.countplot(ax=axes[0], x='AUSENCIA', data=df_data_1)\n",
        "sns.countplot(ax=axes[1], x='MATEMATICA', data=df_data_1)\n",
        "sns.countplot(ax=axes[2], x='PORTUGUES', data=df_data_1)\n",
        "sns.countplot(ax=axes[3], x='BIOLOGIA', data=df_data_1)\n"
      ],
      "execution_count": 94,
      "outputs": [
        {
          "output_type": "execute_result",
          "data": {
            "text/plain": [
              "<matplotlib.axes._subplots.AxesSubplot at 0x7f5f346af7f0>"
            ]
          },
          "metadata": {
            "tags": []
          },
          "execution_count": 94
        },
        {
          "output_type": "display_data",
          "data": {
            "image/png": "[encoded data removed]",
            "text/plain": [
              "<Figure size 2016x288 with 4 Axes>"
            ]
          },
          "metadata": {
            "tags": [],
            "needs_background": "light"
          }
        }
      ]
    },
    {
      "cell_type": "code",
      "metadata": {
        "id": "Az3njh-6LjHU",
        "colab": {
          "base_uri": "https://localhost:8080/",
          "height": 458
        },
        "outputId": "e093ef97-5e4d-41dd-e231-78625bf685d5"
      },
      "source": [
        "#Gere o gráfico de estimativa de densidade do kernel\n",
        "fig, axes = plt.subplots(nrows=1, ncols=4, figsize=(28, 4))\n",
        "\n",
        "sns.distplot(df_data_1['AUSENCIA'].dropna(), ax=axes[0])\n",
        "sns.distplot(df_data_1['MATEMATICA'], ax=axes[1])\n",
        "sns.distplot(df_data_1['PORTUGUES'], ax=axes[2])\n",
        "sns.distplot(df_data_1['BIOLOGIA'], ax=axes[3])\n"
      ],
      "execution_count": 95,
      "outputs": [
        {
          "output_type": "stream",
          "text": [
            "/usr/local/lib/python3.6/dist-packages/seaborn/distributions.py:2551: FutureWarning: `distplot` is a deprecated function and will be removed in a future version. Please adapt your code to use either `displot` (a figure-level function with similar flexibility) or `histplot` (an axes-level function for histograms).\n",
            "  warnings.warn(msg, FutureWarning)\n",
            "/usr/local/lib/python3.6/dist-packages/seaborn/distributions.py:2551: FutureWarning: `distplot` is a deprecated function and will be removed in a future version. Please adapt your code to use either `displot` (a figure-level function with similar flexibility) or `histplot` (an axes-level function for histograms).\n",
            "  warnings.warn(msg, FutureWarning)\n",
            "/usr/local/lib/python3.6/dist-packages/seaborn/distributions.py:2551: FutureWarning: `distplot` is a deprecated function and will be removed in a future version. Please adapt your code to use either `displot` (a figure-level function with similar flexibility) or `histplot` (an axes-level function for histograms).\n",
            "  warnings.warn(msg, FutureWarning)\n",
            "/usr/local/lib/python3.6/dist-packages/seaborn/distributions.py:2551: FutureWarning: `distplot` is a deprecated function and will be removed in a future version. Please adapt your code to use either `displot` (a figure-level function with similar flexibility) or `histplot` (an axes-level function for histograms).\n",
            "  warnings.warn(msg, FutureWarning)\n"
          ],
          "name": "stderr"
        },
        {
          "output_type": "execute_result",
          "data": {
            "text/plain": [
              "<matplotlib.axes._subplots.AxesSubplot at 0x7f5f342afb38>"
            ]
          },
          "metadata": {
            "tags": []
          },
          "execution_count": 95
        },
        {
          "output_type": "display_data",
          "data": {
            "image/png": "[encoded data removed]",
            "text/plain": [
              "<Figure size 2016x288 with 4 Axes>"
            ]
          },
          "metadata": {
            "tags": [],
            "needs_background": "light"
          }
        }
      ]
    },
    {
      "cell_type": "code",
      "metadata": {
        "colab": {
          "base_uri": "https://localhost:8080/",
          "height": 298
        },
        "id": "_BqqD84yLjav",
        "outputId": "7a569e81-7706-4a0c-f992-4d4289ae66c1"
      },
      "source": [
        "fig = plt.plot()\n",
        "sns.countplot(x='RESULTADO', data=df_data_1)"
      ],
      "execution_count": 96,
      "outputs": [
        {
          "output_type": "execute_result",
          "data": {
            "text/plain": [
              "<matplotlib.axes._subplots.AxesSubplot at 0x7f5f3560e9b0>"
            ]
          },
          "metadata": {
            "tags": []
          },
          "execution_count": 96
        },
        {
          "output_type": "display_data",
          "data": {
            "image/png": "[encoded data removed]",
            "text/plain": [
              "<Figure size 432x288 with 1 Axes>"
            ]
          },
          "metadata": {
            "tags": [],
            "needs_background": "light"
          }
        }
      ]
    },
    {
      "cell_type": "markdown",
      "metadata": {
        "id": "pEiq4DdYmY23"
      },
      "source": [
        "## Treinando um modelo de classificação"
      ]
    },
    {
      "cell_type": "markdown",
      "metadata": {
        "id": "PP5-6BRJmY2-"
      },
      "source": [
        "### Definindo as features do modelo"
      ]
    },
    {
      "cell_type": "code",
      "metadata": {
        "id": "aG8fVdQxh9fg"
      },
      "source": [
        "# Definição das colunas que serão features (nota-se que a coluna NOME não está presente)\n",
        "features = [\n",
        "    \"FALTAS\", \"MATEMATICA\", 'PORTUGUES', 'BIOLOGIA', \n",
        "]\n",
        "\n",
        "# Definição da variável-alvo\n",
        "target = [\"RESULTADO\"]\n",
        "\n",
        "# Preparação dos argumentos para os métodos da biblioteca ``scikit-learn``\n",
        "X = df_data_2[features]\n",
        "y = df_data_2[target]"
      ],
      "execution_count": 162,
      "outputs": []
    },
    {
      "cell_type": "markdown",
      "metadata": {
        "id": "V0YosyFhmY3I"
      },
      "source": [
        "O conjunto de entrada (X):"
      ]
    },
    {
      "cell_type": "code",
      "metadata": {
        "colab": {
          "base_uri": "https://localhost:8080/",
          "height": 197
        },
        "id": "KbVlNVHPmY3J",
        "outputId": "448ab849-97d9-4124-f58a-1a558011df3f"
      },
      "source": [
        "X.head()"
      ],
      "execution_count": 163,
      "outputs": [
        {
          "output_type": "execute_result",
          "data": {
            "text/html": [
              "<div>\n",
              "<style scoped>\n",
              "    .dataframe tbody tr th:only-of-type {\n",
              "        vertical-align: middle;\n",
              "    }\n",
              "\n",
              "    .dataframe tbody tr th {\n",
              "        vertical-align: top;\n",
              "    }\n",
              "\n",
              "    .dataframe thead th {\n",
              "        text-align: right;\n",
              "    }\n",
              "</style>\n",
              "<table border=\"1\" class=\"dataframe\">\n",
              "  <thead>\n",
              "    <tr style=\"text-align: right;\">\n",
              "      <th></th>\n",
              "      <th>FALTAS</th>\n",
              "      <th>MATEMATICA</th>\n",
              "      <th>PORTUGUES</th>\n",
              "      <th>BIOLOGIA</th>\n",
              "    </tr>\n",
              "  </thead>\n",
              "  <tbody>\n",
              "    <tr>\n",
              "      <th>0</th>\n",
              "      <td>26</td>\n",
              "      <td>7.0</td>\n",
              "      <td>6.8</td>\n",
              "      <td>8.4</td>\n",
              "    </tr>\n",
              "    <tr>\n",
              "      <th>1</th>\n",
              "      <td>26</td>\n",
              "      <td>6.0</td>\n",
              "      <td>7.0</td>\n",
              "      <td>7.3</td>\n",
              "    </tr>\n",
              "    <tr>\n",
              "      <th>2</th>\n",
              "      <td>25</td>\n",
              "      <td>7.0</td>\n",
              "      <td>8.1</td>\n",
              "      <td>8.3</td>\n",
              "    </tr>\n",
              "    <tr>\n",
              "      <th>3</th>\n",
              "      <td>25</td>\n",
              "      <td>7.0</td>\n",
              "      <td>6.9</td>\n",
              "      <td>8.0</td>\n",
              "    </tr>\n",
              "    <tr>\n",
              "      <th>4</th>\n",
              "      <td>25</td>\n",
              "      <td>6.0</td>\n",
              "      <td>7.1</td>\n",
              "      <td>6.0</td>\n",
              "    </tr>\n",
              "  </tbody>\n",
              "</table>\n",
              "</div>"
            ],
            "text/plain": [
              "   FALTAS  MATEMATICA  PORTUGUES  BIOLOGIA\n",
              "0      26         7.0        6.8       8.4\n",
              "1      26         6.0        7.0       7.3\n",
              "2      25         7.0        8.1       8.3\n",
              "3      25         7.0        6.9       8.0\n",
              "4      25         6.0        7.1       6.0"
            ]
          },
          "metadata": {
            "tags": []
          },
          "execution_count": 163
        }
      ]
    },
    {
      "cell_type": "markdown",
      "metadata": {
        "id": "jS_txtY-mY3O"
      },
      "source": [
        "As variáveis-alvo correspondentes (y):"
      ]
    },
    {
      "cell_type": "code",
      "metadata": {
        "colab": {
          "base_uri": "https://localhost:8080/",
          "height": 197
        },
        "id": "V4p-1WeEmY3P",
        "outputId": "f79e83e7-b609-4588-d562-2d0b50b0c66e"
      },
      "source": [
        "y.head()"
      ],
      "execution_count": 164,
      "outputs": [
        {
          "output_type": "execute_result",
          "data": {
            "text/html": [
              "<div>\n",
              "<style scoped>\n",
              "    .dataframe tbody tr th:only-of-type {\n",
              "        vertical-align: middle;\n",
              "    }\n",
              "\n",
              "    .dataframe tbody tr th {\n",
              "        vertical-align: top;\n",
              "    }\n",
              "\n",
              "    .dataframe thead th {\n",
              "        text-align: right;\n",
              "    }\n",
              "</style>\n",
              "<table border=\"1\" class=\"dataframe\">\n",
              "  <thead>\n",
              "    <tr style=\"text-align: right;\">\n",
              "      <th></th>\n",
              "      <th>RESULTADO</th>\n",
              "    </tr>\n",
              "  </thead>\n",
              "  <tbody>\n",
              "    <tr>\n",
              "      <th>0</th>\n",
              "      <td>REPROVADO</td>\n",
              "    </tr>\n",
              "    <tr>\n",
              "      <th>1</th>\n",
              "      <td>REPROVADO</td>\n",
              "    </tr>\n",
              "    <tr>\n",
              "      <th>2</th>\n",
              "      <td>REPROVADO</td>\n",
              "    </tr>\n",
              "    <tr>\n",
              "      <th>3</th>\n",
              "      <td>REPROVADO</td>\n",
              "    </tr>\n",
              "    <tr>\n",
              "      <th>4</th>\n",
              "      <td>REPROVADO</td>\n",
              "    </tr>\n",
              "  </tbody>\n",
              "</table>\n",
              "</div>"
            ],
            "text/plain": [
              "   RESULTADO\n",
              "0  REPROVADO\n",
              "1  REPROVADO\n",
              "2  REPROVADO\n",
              "3  REPROVADO\n",
              "4  REPROVADO"
            ]
          },
          "metadata": {
            "tags": []
          },
          "execution_count": 164
        }
      ]
    },
    {
      "cell_type": "markdown",
      "metadata": {
        "id": "Dbg9zC4mmY3X"
      },
      "source": [
        "### Separando o dataset em um conjunto de treino e um conjunto de teste"
      ]
    },
    {
      "cell_type": "markdown",
      "metadata": {
        "id": "a7pDea5omY3Y"
      },
      "source": [
        "Iremos separar o dataset fornecido em dois grupos: um para treinar nosso modelo, e outro para testarmos o resultado através de um teste cego. A separação do dataset pode ser feita facilmente com o método *train_test_split()* do scikit-learn:"
      ]
    },
    {
      "cell_type": "code",
      "metadata": {
        "id": "virc4JjymY3Y"
      },
      "source": [
        "# Separação dos dados em um conjunto de treino e um conjunto de teste\n",
        "X_train, X_test, y_train, y_test = train_test_split(X, y, test_size=0.3, random_state=337)"
      ],
      "execution_count": 165,
      "outputs": []
    },
    {
      "cell_type": "markdown",
      "metadata": {
        "id": "F2D0EwccmY3d"
      },
      "source": [
        "<hr>"
      ]
    },
    {
      "cell_type": "markdown",
      "metadata": {
        "id": "6fdh8j2_mY3e"
      },
      "source": [
        "### Criando um modelo baseado em árvores de decisão"
      ]
    },
    {
      "cell_type": "markdown",
      "metadata": {
        "id": "QhlIH7cWmY3f"
      },
      "source": [
        "No exemplo fornecido iremos criar um classificador baseado em **árvores de decisão**.\n",
        "\n",
        "Material teórico sobre árvores de decisão na documentação oficial do scikit-learn: https://scikit-learn.org/stable/modules/tree.html\n",
        "\n",
        "O primeiro passo é basicamente instanciar um objeto *DecisionTreeClassifier()* da biblioteca scikit-learn."
      ]
    },
    {
      "cell_type": "code",
      "metadata": {
        "id": "KLdqolrXmY3i"
      },
      "source": [
        "# Criação de uma árvore de decisão com a biblioteca ``scikit-learn``:\n",
        "decision_tree = DecisionTreeClassifier()"
      ],
      "execution_count": 166,
      "outputs": []
    },
    {
      "cell_type": "markdown",
      "metadata": {
        "id": "-BTjY6oDmY3m"
      },
      "source": [
        "### Testando o classificador baseado em árvore de decisão"
      ]
    },
    {
      "cell_type": "code",
      "metadata": {
        "colab": {
          "base_uri": "https://localhost:8080/"
        },
        "id": "MG0-6xNWmY3n",
        "outputId": "ff14aa34-5551-4b07-986e-440716bc0174"
      },
      "source": [
        "# Treino do modelo (é chamado o método *fit()* com os conjuntos de treino)\n",
        "decision_tree.fit(\n",
        "    X_train,\n",
        "    y_train\n",
        ")"
      ],
      "execution_count": 167,
      "outputs": [
        {
          "output_type": "execute_result",
          "data": {
            "text/plain": [
              "DecisionTreeClassifier(class_weight=None, criterion='gini', max_depth=None,\n",
              "            max_features=None, max_leaf_nodes=None,\n",
              "            min_impurity_decrease=0.0, min_impurity_split=None,\n",
              "            min_samples_leaf=1, min_samples_split=2,\n",
              "            min_weight_fraction_leaf=0.0, presort=False, random_state=None,\n",
              "            splitter='best')"
            ]
          },
          "metadata": {
            "tags": []
          },
          "execution_count": 167
        }
      ]
    },
    {
      "cell_type": "markdown",
      "metadata": {
        "id": "ddxsP3_kmY3s"
      },
      "source": [
        "### Execução de predições e avaliação da árvore de decisão"
      ]
    },
    {
      "cell_type": "code",
      "metadata": {
        "id": "LcDnczDAmY3t"
      },
      "source": [
        "# Realização de teste cego no modelo criado\n",
        "y_pred = decision_tree.predict(X_test)"
      ],
      "execution_count": 168,
      "outputs": []
    },
    {
      "cell_type": "code",
      "metadata": {
        "colab": {
          "base_uri": "https://localhost:8080/",
          "height": 197
        },
        "id": "pbn-k0XCmY3y",
        "outputId": "59531df4-0ca5-416c-9379-bca2e4d5b3df"
      },
      "source": [
        "X_test.head()"
      ],
      "execution_count": 169,
      "outputs": [
        {
          "output_type": "execute_result",
          "data": {
            "text/html": [
              "<div>\n",
              "<style scoped>\n",
              "    .dataframe tbody tr th:only-of-type {\n",
              "        vertical-align: middle;\n",
              "    }\n",
              "\n",
              "    .dataframe tbody tr th {\n",
              "        vertical-align: top;\n",
              "    }\n",
              "\n",
              "    .dataframe thead th {\n",
              "        text-align: right;\n",
              "    }\n",
              "</style>\n",
              "<table border=\"1\" class=\"dataframe\">\n",
              "  <thead>\n",
              "    <tr style=\"text-align: right;\">\n",
              "      <th></th>\n",
              "      <th>FALTAS</th>\n",
              "      <th>MATEMATICA</th>\n",
              "      <th>PORTUGUES</th>\n",
              "      <th>BIOLOGIA</th>\n",
              "    </tr>\n",
              "  </thead>\n",
              "  <tbody>\n",
              "    <tr>\n",
              "      <th>635</th>\n",
              "      <td>6</td>\n",
              "      <td>6.0</td>\n",
              "      <td>7.0</td>\n",
              "      <td>5.5</td>\n",
              "    </tr>\n",
              "    <tr>\n",
              "      <th>1954</th>\n",
              "      <td>6</td>\n",
              "      <td>7.0</td>\n",
              "      <td>6.9</td>\n",
              "      <td>6.0</td>\n",
              "    </tr>\n",
              "    <tr>\n",
              "      <th>2284</th>\n",
              "      <td>6</td>\n",
              "      <td>6.0</td>\n",
              "      <td>6.0</td>\n",
              "      <td>6.3</td>\n",
              "    </tr>\n",
              "    <tr>\n",
              "      <th>869</th>\n",
              "      <td>5</td>\n",
              "      <td>6.0</td>\n",
              "      <td>5.8</td>\n",
              "      <td>5.5</td>\n",
              "    </tr>\n",
              "    <tr>\n",
              "      <th>3777</th>\n",
              "      <td>3</td>\n",
              "      <td>7.0</td>\n",
              "      <td>7.3</td>\n",
              "      <td>6.4</td>\n",
              "    </tr>\n",
              "  </tbody>\n",
              "</table>\n",
              "</div>"
            ],
            "text/plain": [
              "      FALTAS  MATEMATICA  PORTUGUES  BIOLOGIA\n",
              "635        6         6.0        7.0       5.5\n",
              "1954       6         7.0        6.9       6.0\n",
              "2284       6         6.0        6.0       6.3\n",
              "869        5         6.0        5.8       5.5\n",
              "3777       3         7.0        7.3       6.4"
            ]
          },
          "metadata": {
            "tags": []
          },
          "execution_count": 169
        }
      ]
    },
    {
      "cell_type": "code",
      "metadata": {
        "colab": {
          "base_uri": "https://localhost:8080/"
        },
        "id": "YScRfOQ3mY33",
        "outputId": "139c8960-5fda-49b9-b69b-2a324ad82364"
      },
      "source": [
        "print(y_pred)"
      ],
      "execution_count": 170,
      "outputs": [
        {
          "output_type": "stream",
          "text": [
            "['REPROVADO' 'APROVADO' 'APROVADO' ... 'APROVADO' 'APROVADO' 'REPROVADO']\n"
          ],
          "name": "stdout"
        }
      ]
    },
    {
      "cell_type": "code",
      "metadata": {
        "colab": {
          "base_uri": "https://localhost:8080/"
        },
        "id": "5KXleV40mY38",
        "outputId": "d0497dfc-416f-4fef-8071-f9c74f8161dd"
      },
      "source": [
        "from sklearn.metrics import accuracy_score\n",
        "\n",
        "# Acurácia alcançada pela árvore de decisão\n",
        "print(\"Acurácia: {}%\".format(100*round(accuracy_score(y_test, y_pred), 2)))"
      ],
      "execution_count": 171,
      "outputs": [
        {
          "output_type": "stream",
          "text": [
            "Acurácia: 100.0%\n"
          ],
          "name": "stdout"
        }
      ]
    },
    {
      "cell_type": "markdown",
      "metadata": {
        "id": "zuqtW-U17Pgq"
      },
      "source": [
        "### Testar modelo em uma matriz de confusao"
      ]
    },
    {
      "cell_type": "code",
      "metadata": {
        "id": "GjB0a9xKaKVO"
      },
      "source": [
        "# matriz de confusão é para avaliar a qualidade da saída do nosso classificador\n",
        "import matplotlib.pyplot as plt\n",
        "import numpy as np\n",
        "import itertools\n",
        "\n",
        "\n",
        "def plot_confusion_matrix(cm, target_names, title='Confusion matrix', cmap=None, normalize=True):\n",
        "    accuracy = np.trace(cm) / float(np.sum(cm))\n",
        "    misclass = 1 - accuracy\n",
        "    if cmap is None:\n",
        "        cmap = plt.get_cmap('Blues')\n",
        "    plt.figure(figsize=(8, 6))\n",
        "    plt.imshow(cm, interpolation='nearest', cmap=cmap)\n",
        "    plt.title(title)\n",
        "    plt.colorbar()\n",
        "    if target_names is not None:\n",
        "        tick_marks = np.arange(len(target_names))\n",
        "        plt.xticks(tick_marks, target_names, rotation=45)\n",
        "        plt.yticks(tick_marks, target_names)\n",
        "    if normalize:\n",
        "        cm = cm.astype('float') / cm.sum(axis=1)[:, np.newaxis]\n",
        "    thresh = cm.max() / 1.5 if normalize else cm.max() / 2\n",
        "    for i, j in itertools.product(range(cm.shape[0]), range(cm.shape[1])):\n",
        "        if normalize:\n",
        "            plt.text(j, i, \"{:0.4f}\".format(cm[i, j]),\n",
        "                     horizontalalignment=\"center\",\n",
        "                     color=\"white\" if cm[i, j] > thresh else \"black\")\n",
        "        else:\n",
        "            plt.text(j, i, \"{:,}\".format(cm[i, j]),\n",
        "                     horizontalalignment=\"center\",\n",
        "                     color=\"white\" if cm[i, j] > thresh else \"black\")\n",
        "    plt.tight_layout()\n",
        "    plt.ylabel('True label')\n",
        "    plt.xlabel('Predicted label\\naccuracy={:0.4f}; misclass={:0.4f}'.format(accuracy, misclass))\n",
        "    plt.show()"
      ],
      "execution_count": 172,
      "outputs": []
    },
    {
      "cell_type": "code",
      "metadata": {
        "colab": {
          "base_uri": "https://localhost:8080/",
          "height": 466
        },
        "id": "bdx8NPvuaNNJ",
        "outputId": "1e179ef0-2dae-4965-efbd-c15cb0387b32"
      },
      "source": [
        "from sklearn.metrics import confusion_matrix\n",
        "\n",
        "\n",
        "plot_confusion_matrix(confusion_matrix(y_test, y_pred), ['APROVADO', 'REPROVADO'])"
      ],
      "execution_count": 174,
      "outputs": [
        {
          "output_type": "display_data",
          "data": {
            "image/png": "[encoded data removed]",
            "text/plain": [
              "<Figure size 576x432 with 2 Axes>"
            ]
          },
          "metadata": {
            "tags": [],
            "needs_background": "light"
          }
        }
      ]
    },
    {
      "cell_type": "markdown",
      "metadata": {
        "id": "NZSWBj_Fx19V"
      },
      "source": [
        "### Salvando a folha de respostas como um arquivo .csv para ser submetido"
      ]
    },
    {
      "cell_type": "code",
      "metadata": {
        "colab": {
          "base_uri": "https://localhost:8080/",
          "height": 16
        },
        "id": "FnUmrudhALnM",
        "outputId": "8d768d3e-89ef-4700-b07d-479b20a00158"
      },
      "source": [
        "from google.colab import files\n",
        "df_data_2.to_csv('dataset_alunos.csv') \n",
        "files.download('dataset_alunos.csv')"
      ],
      "execution_count": null,
      "outputs": [
        {
          "output_type": "display_data",
          "data": {
            "application/javascript": [
              "\n",
              "    async function download(id, filename, size) {\n",
              "      if (!google.colab.kernel.accessAllowed) {\n",
              "        return;\n",
              "      }\n",
              "      const div = document.createElement('div');\n",
              "      const label = document.createElement('label');\n",
              "      label.textContent = `Downloading \"${filename}\": `;\n",
              "      div.appendChild(label);\n",
              "      const progress = document.createElement('progress');\n",
              "      progress.max = size;\n",
              "      div.appendChild(progress);\n",
              "      document.body.appendChild(div);\n",
              "\n",
              "      const buffers = [];\n",
              "      let downloaded = 0;\n",
              "\n",
              "      const channel = await google.colab.kernel.comms.open(id);\n",
              "      // Send a message to notify the kernel that we're ready.\n",
              "      channel.send({})\n",
              "\n",
              "      for await (const message of channel.messages) {\n",
              "        // Send a message to notify the kernel that we're ready.\n",
              "        channel.send({})\n",
              "        if (message.buffers) {\n",
              "          for (const buffer of message.buffers) {\n",
              "            buffers.push(buffer);\n",
              "            downloaded += buffer.byteLength;\n",
              "            progress.value = downloaded;\n",
              "          }\n",
              "        }\n",
              "      }\n",
              "      const blob = new Blob(buffers, {type: 'application/binary'});\n",
              "      const a = document.createElement('a');\n",
              "      a.href = window.URL.createObjectURL(blob);\n",
              "      a.download = filename;\n",
              "      div.appendChild(a);\n",
              "      a.click();\n",
              "      div.remove();\n",
              "    }\n",
              "  "
            ],
            "text/plain": [
              "<IPython.core.display.Javascript object>"
            ]
          },
          "metadata": {
            "tags": []
          }
        },
        {
          "output_type": "display_data",
          "data": {
            "application/javascript": [
              "download(\"download_f2182400-6a36-4901-9b8e-9f059ef7e3f6\", \"meu_dataset.csv\", 176256)"
            ],
            "text/plain": [
              "<IPython.core.display.Javascript object>"
            ]
          },
          "metadata": {
            "tags": []
          }
        }
      ]
    },
    {
      "cell_type": "markdown",
      "metadata": {
        "id": "_ygOATtMmY4H"
      },
      "source": [
        "<hr>"
      ]
    },
    {
      "cell_type": "markdown",
      "metadata": {
        "id": "b-LkA10_mY4I"
      },
      "source": [
        "Neste notebook foi demonstrado como trabalhar com transformações e modelos com a biblioteca scikit-learn. É recomendado que o participante realize seus experimentos editando o código fornecido aqui até que um modelo com acurácia elevada seja alcançado.\n",
        "\n",
        "Quando você estiver satisfeito com seu modelo, pode passar para a segunda etapa do desafio -- encapsular seu modelo como uma API REST pronta para uso em uma ferramenta Machine Learning!\n",
        "\n"
      ]
    }
  ]
}